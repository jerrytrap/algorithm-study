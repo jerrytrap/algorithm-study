{
 "cells": [
  {
   "cell_type": "code",
   "execution_count": 7,
   "metadata": {},
   "outputs": [
    {
     "name": "stdout",
     "output_type": "stream",
     "text": [
      "1000 70 170\n",
      "11\n"
     ]
    }
   ],
   "source": [
    "#1712\n",
    "a, b, c = map(int, input().split())\n",
    "if b >= c:\n",
    "    print(-1)\n",
    "else:\n",
    "    point = a // (c - b) + 1\n",
    "    print(point)"
   ]
  },
  {
   "cell_type": "code",
   "execution_count": 15,
   "metadata": {},
   "outputs": [
    {
     "name": "stdout",
     "output_type": "stream",
     "text": [
      "20\n",
      "4\n"
     ]
    }
   ],
   "source": [
    "#2292\n",
    "num = int(input())\n",
    "count = 1 #지나가야 하는 방의 개수\n",
    "range = 1 #같은 거리 내 가장 큰 수\n",
    "\n",
    "while True:\n",
    "    if num <= range: #입력이 같은 거리 내 가장 큰 수보다 작거나 같을 때 그 거리에 있음을 의미\n",
    "        break\n",
    "        \n",
    "    range += (6 * count) #입력이 같은 거리 내 가장 큰 수보다 크면 그 다음 거리를 조사\n",
    "    count += 1\n",
    "\n",
    "print(count)"
   ]
  },
  {
   "cell_type": "code",
   "execution_count": 20,
   "metadata": {},
   "outputs": [
    {
     "name": "stdout",
     "output_type": "stream",
     "text": [
      "6\n",
      "1/3\n"
     ]
    }
   ],
   "source": [
    "#1193\n",
    "num = int(input())\n",
    "range = 1 #대각선의 길이는 1씩 증가함\n",
    "group = 1 #몇 번째 대각선인지 찾기 위한 변수\n",
    "sum = 2 #분모와 분자의 합\n",
    "parent = 0 #분모\n",
    "child = 0 #분자\n",
    "\n",
    "while True:\n",
    "    if num <= range:\n",
    "        break\n",
    "    group += 1\n",
    "    range += group\n",
    "    sum += 1\n",
    "    \n",
    "seq = num - (range - group) #대각선의 몇 번째 순서에 있는 지 나타냄\n",
    "\n",
    "if (group % 2) == 0: #짝수번째 대각선은 분자가 1부터 시작\n",
    "    parent = seq\n",
    "    child = sum - seq\n",
    "else: #홀수번째 대각선은 분모가 1부터 시작\n",
    "    parent = sum - seq\n",
    "    child = seq\n",
    "    \n",
    "print(str(parent) + '/' + str(child))"
   ]
  },
  {
   "cell_type": "code",
   "execution_count": 31,
   "metadata": {},
   "outputs": [
    {
     "name": "stdout",
     "output_type": "stream",
     "text": [
      "100 99 1000000000\n",
      "999999901\n"
     ]
    }
   ],
   "source": [
    "#2869\n",
    "a, b, v = map(int, input().split())\n",
    "day = 0\n",
    "\n",
    "#정상 올라가기 직전 남은 거리가 하루동안 가는 거리로 나누어 떨어질 때는 다음 날 바로 도착\n",
    "#정상에 올라간 후 미끄러지지 않으므로\n",
    "if ((v - a) % (a - b)) == 0: \n",
    "    day = (v - a) // (a - b)\n",
    "#나누어 떨어지지 않을 때 하루를 더 가야함\n",
    "else: \n",
    "    day = (v - a) // (a - b) + 1\n",
    "\n",
    "#다음 날 도착\n",
    "print(day + 1)"
   ]
  },
  {
   "cell_type": "code",
   "execution_count": 8,
   "metadata": {},
   "outputs": [
    {
     "name": "stdout",
     "output_type": "stream",
     "text": [
      "2\n",
      "6 12 10\n",
      "402\n",
      "30 50 72\n",
      "1203\n"
     ]
    }
   ],
   "source": [
    "#10250\n",
    "t = int(input())\n",
    "\n",
    "for i in range(t):\n",
    "    h, w, n = map(int, input().split())\n",
    "    \n",
    "    if(n % h == 0 ): #사람 수가 층 수로 나누어질 때\n",
    "        floor = h #층수\n",
    "        num = n // h #호수\n",
    "    else:\n",
    "        floor = n % h\n",
    "        num = n // h + 1\n",
    "    \n",
    "    room_num = floor * 100 + num #방 호수\n",
    "    print(room_num)"
   ]
  },
  {
   "cell_type": "code",
   "execution_count": null,
   "metadata": {},
   "outputs": [],
   "source": []
  }
 ],
 "metadata": {
  "kernelspec": {
   "display_name": "Python 3",
   "language": "python",
   "name": "python3"
  },
  "language_info": {
   "codemirror_mode": {
    "name": "ipython",
    "version": 3
   },
   "file_extension": ".py",
   "mimetype": "text/x-python",
   "name": "python",
   "nbconvert_exporter": "python",
   "pygments_lexer": "ipython3",
   "version": "3.8.5"
  }
 },
 "nbformat": 4,
 "nbformat_minor": 4
}
