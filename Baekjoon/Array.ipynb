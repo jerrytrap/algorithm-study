{
 "cells": [
  {
   "cell_type": "code",
   "execution_count": 4,
   "metadata": {},
   "outputs": [
    {
     "name": "stdout",
     "output_type": "stream",
     "text": [
      "5\n",
      "20 10 35 30 7\n",
      "--------------\n",
      "7 35\n"
     ]
    }
   ],
   "source": [
    "#10818\n",
    "n = int(input())\n",
    "array = list(map(int, input().split()))\n",
    "print(\"--------------\")\n",
    "print(min(array), max(array))"
   ]
  },
  {
   "cell_type": "code",
   "execution_count": 5,
   "metadata": {},
   "outputs": [
    {
     "name": "stdout",
     "output_type": "stream",
     "text": [
      "3\n",
      "29\n",
      "38\n",
      "12\n",
      "57\n",
      "74\n",
      "40\n",
      "85\n",
      "61\n",
      "--------------\n",
      "85\n",
      "8\n"
     ]
    }
   ],
   "source": [
    "#2562\n",
    "array = []\n",
    "for i in range(9):\n",
    "    array.append(int(input()))\n",
    "    \n",
    "print(\"--------------\")\n",
    "print(max(array))\n",
    "print(array.index(max(array)) + 1)"
   ]
  },
  {
   "cell_type": "code",
   "execution_count": 15,
   "metadata": {},
   "outputs": [
    {
     "name": "stdout",
     "output_type": "stream",
     "text": [
      "150\n",
      "266\n",
      "427\n",
      "--------------\n",
      "3\n",
      "1\n",
      "0\n",
      "2\n",
      "0\n",
      "0\n",
      "0\n",
      "2\n",
      "0\n",
      "0\n"
     ]
    }
   ],
   "source": [
    "#2577\n",
    "a = int(input())\n",
    "b = int(input())\n",
    "c = int(input())\n",
    "num = a * b * c\n",
    "num = str(num)\n",
    "\n",
    "print(\"--------------\")\n",
    "for i in range(10):\n",
    "    cnt = num.count(str(i))\n",
    "    print(cnt)"
   ]
  },
  {
   "cell_type": "code",
   "execution_count": 24,
   "metadata": {},
   "outputs": [
    {
     "name": "stdout",
     "output_type": "stream",
     "text": [
      "39\n",
      "40\n",
      "41\n",
      "42\n",
      "43\n",
      "44\n",
      "82\n",
      "83\n",
      "84\n",
      "85\n",
      "--------------\n",
      "6\n"
     ]
    }
   ],
   "source": [
    "#3052\n",
    "a = []\n",
    "for i in range(10):\n",
    "    a.append(int(input()) % 42)\n",
    "\n",
    "print(\"--------------\")\n",
    "set_a = set(a)\n",
    "print(len(set_a))"
   ]
  },
  {
   "cell_type": "code",
   "execution_count": 34,
   "metadata": {},
   "outputs": [
    {
     "name": "stdout",
     "output_type": "stream",
     "text": [
      "3\n",
      "10 20 30\n",
      "--------------\n",
      "66.67\n"
     ]
    }
   ],
   "source": [
    "#1546\n",
    "test_count = int(input())\n",
    "score = list(map(int, input().split()))\n",
    "max_score = max(score)\n",
    "\n",
    "for i in range(test_count):\n",
    "    score[i] = score[i] / max_score * 100\n",
    "\n",
    "new_avg = sum(score) / test_count\n",
    "\n",
    "print(\"--------------\")\n",
    "print(\"{:.2f}\".format(new_avg))"
   ]
  },
  {
   "cell_type": "code",
   "execution_count": 60,
   "metadata": {},
   "outputs": [
    {
     "name": "stdout",
     "output_type": "stream",
     "text": [
      "5\n",
      "OOXXOXXOOO\n",
      "10\n",
      "OOXXOOXXOO\n",
      "9\n",
      "OXOXOXOXOXOXOX\n",
      "7\n",
      "OOOOOOOOOO\n",
      "55\n",
      "OOOOXOOOOXOOOOX\n",
      "30\n"
     ]
    }
   ],
   "source": [
    "#8958\n",
    "test_num = int(input())\n",
    "\n",
    "for i in range(test_num):\n",
    "    OX_res = input()\n",
    "    tmp = 1\n",
    "    res = 0\n",
    "\n",
    "    for i in range(len(OX_res)):\n",
    "        if OX_res[i] == 'O':\n",
    "            res += tmp\n",
    "            tmp += 1\n",
    "        else:\n",
    "            tmp = 1\n",
    "\n",
    "    print(res)"
   ]
  },
  {
   "cell_type": "code",
   "execution_count": 63,
   "metadata": {},
   "outputs": [
    {
     "name": "stdout",
     "output_type": "stream",
     "text": [
      "5\n",
      "5 50 50 70 80 100\n",
      "40.000%\n",
      "7 100 95 90 80 70 60 50\n",
      "57.143%\n",
      "3 70 90 80\n",
      "33.333%\n",
      "3 70 90 81\n",
      "66.667%\n",
      "9 100 99 98 97 96 95 94 93 91\n",
      "55.556%\n"
     ]
    }
   ],
   "source": [
    "#4344\n",
    "test_num = int(input())\n",
    "\n",
    "for i in range(test_num):\n",
    "    score = list(map(int, input().split()))\n",
    "    std_num = score[0]\n",
    "    del score[0]\n",
    "    avg = sum(score) / std_num\n",
    "    count = 0\n",
    "    for j in range(std_num):\n",
    "        if score[j] > avg:\n",
    "            count += 1\n",
    "    print(\"{:.3f}%\".format(count / std_num * 100))"
   ]
  },
  {
   "cell_type": "code",
   "execution_count": null,
   "metadata": {},
   "outputs": [],
   "source": []
  }
 ],
 "metadata": {
  "kernelspec": {
   "display_name": "Python 3",
   "language": "python",
   "name": "python3"
  },
  "language_info": {
   "codemirror_mode": {
    "name": "ipython",
    "version": 3
   },
   "file_extension": ".py",
   "mimetype": "text/x-python",
   "name": "python",
   "nbconvert_exporter": "python",
   "pygments_lexer": "ipython3",
   "version": "3.8.5"
  }
 },
 "nbformat": 4,
 "nbformat_minor": 4
}
