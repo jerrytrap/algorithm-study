{
 "cells": [
  {
   "cell_type": "code",
   "execution_count": 1,
   "metadata": {},
   "outputs": [
    {
     "name": "stdout",
     "output_type": "stream",
     "text": [
      "A\n",
      "65\n"
     ]
    }
   ],
   "source": [
    "#11654\n",
    "a = input()\n",
    "print(ord(a))"
   ]
  },
  {
   "cell_type": "code",
   "execution_count": 2,
   "metadata": {},
   "outputs": [
    {
     "name": "stdout",
     "output_type": "stream",
     "text": [
      "11\n",
      "10987654321\n",
      "46\n"
     ]
    }
   ],
   "source": [
    "#11720\n",
    "a = input()\n",
    "b = input()\n",
    "c = 0\n",
    "\n",
    "for i in b:\n",
    "    c += int(i)\n",
    "    \n",
    "print(c)"
   ]
  },
  {
   "cell_type": "code",
   "execution_count": 37,
   "metadata": {},
   "outputs": [
    {
     "name": "stdout",
     "output_type": "stream",
     "text": [
      "baekjoon\n",
      "1 0 -1 -1 2 -1 -1 -1 -1 4 3 -1 -1 7 5 -1 -1 -1 -1 -1 -1 -1 -1 -1 -1 -1 "
     ]
    }
   ],
   "source": [
    "#10809\n",
    "word = input()\n",
    "ans = [-1] * 26\n",
    "place = 0\n",
    "\n",
    "for i in word:\n",
    "    if ans[ord(i) - 97] == -1:\n",
    "        ans[ord(i) - 97] = place\n",
    "    place += 1\n",
    "    \n",
    "for j in ans:\n",
    "    print(j, end=\" \")"
   ]
  },
  {
   "cell_type": "code",
   "execution_count": 66,
   "metadata": {},
   "outputs": [
    {
     "name": "stdout",
     "output_type": "stream",
     "text": [
      "2\n",
      "2 ABC\n",
      "5 /HTP\n",
      "AABBCC\n",
      "/////HHHHHTTTTTPPPPP\n"
     ]
    }
   ],
   "source": [
    "#2675\n",
    "count = input()\n",
    "word3 = [] * 1000\n",
    "for a in range(int(count)):\n",
    "    word = input().split()\n",
    "    word2 = ''\n",
    "    for i in word[1]:\n",
    "        word2 += i * int(word[0])\n",
    "    word3.append(word2)\n",
    "\n",
    "for j in word3:\n",
    "    print(j)"
   ]
  },
  {
   "cell_type": "code",
   "execution_count": 4,
   "metadata": {},
   "outputs": [
    {
     "name": "stdout",
     "output_type": "stream",
     "text": [
      "Mississipi\n",
      "?\n"
     ]
    }
   ],
   "source": [
    "#1157\n",
    "word = input()\n",
    "word2 = word.upper()\n",
    "freq = [0] * 26\n",
    "\n",
    "for i in word2:\n",
    "    freq[ord(i) - 65] += 1;\n",
    "    \n",
    "maxPos = freq.index(max(freq))\n",
    "\n",
    "if freq.count(max(freq)) > 1:\n",
    "    print('?')\n",
    "else:\n",
    "    print(chr(maxPos + 65))"
   ]
  },
  {
   "cell_type": "code",
   "execution_count": 5,
   "metadata": {},
   "outputs": [
    {
     "name": "stdout",
     "output_type": "stream",
     "text": [
      "The Curious Case of Benjamin Button\n",
      "6\n"
     ]
    }
   ],
   "source": [
    "#1152\n",
    "word = input()\n",
    "\n",
    "ans = word.count(' ') + 1\n",
    "\n",
    "if word[0] == ' ':\n",
    "    ans -= 1\n",
    "if word[-1] == ' ':\n",
    "    ans -= 1\n",
    "    \n",
    "print(ans)"
   ]
  }
 ],
 "metadata": {
  "kernelspec": {
   "display_name": "Python 3",
   "language": "python",
   "name": "python3"
  },
  "language_info": {
   "codemirror_mode": {
    "name": "ipython",
    "version": 3
   },
   "file_extension": ".py",
   "mimetype": "text/x-python",
   "name": "python",
   "nbconvert_exporter": "python",
   "pygments_lexer": "ipython3",
   "version": "3.8.5"
  }
 },
 "nbformat": 4,
 "nbformat_minor": 4
}
