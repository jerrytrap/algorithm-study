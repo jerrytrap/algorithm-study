{
 "cells": [
  {
   "cell_type": "code",
   "execution_count": 21,
   "metadata": {},
   "outputs": [
    {
     "name": "stdout",
     "output_type": "stream",
     "text": [
      "1 1\n",
      "2\n",
      "2 3\n",
      "5\n",
      "3 4\n",
      "7\n",
      "9 8\n",
      "17\n",
      "5 2\n",
      "7\n",
      "0 0\n"
     ]
    }
   ],
   "source": [
    "#10952\n",
    "while True:\n",
    "    a, b = map(int, input().split())\n",
    "    if a == 0 & b == 0:\n",
    "        break\n",
    "    print(a + b)"
   ]
  },
  {
   "cell_type": "code",
   "execution_count": null,
   "metadata": {},
   "outputs": [],
   "source": [
    "#10951\n",
    "while True:\n",
    "    try:\n",
    "        a, b = map(int, input().split())\n",
    "        print(a + b)\n",
    "    except EOFError:\n",
    "        break"
   ]
  },
  {
   "cell_type": "code",
   "execution_count": 56,
   "metadata": {},
   "outputs": [
    {
     "name": "stdout",
     "output_type": "stream",
     "text": [
      "55\n",
      "50\n",
      "5\n",
      "3\n"
     ]
    }
   ],
   "source": [
    "#1110\n",
    "inputNum = int(input())\n",
    "tmp = inputNum\n",
    "count = 0\n",
    "\n",
    "while True:\n",
    "    tenNum = tmp // 10 #원래 수의 십의 자리 수\n",
    "    oneNum = tmp % 10 #원래 수의 일의 자리 수\n",
    "    \n",
    "    #원래 수의 일의 자리 수에 각 자리 수 합의 일의 자리 수를 붙인다\n",
    "    tmp = (oneNum * 10) + ((tenNum + oneNum) % 10)\n",
    "    count += 1\n",
    "    \n",
    "    if inputNum == tmp:\n",
    "        break\n",
    "\n",
    "print(count)"
   ]
  }
 ],
 "metadata": {
  "kernelspec": {
   "display_name": "Python 3",
   "language": "python",
   "name": "python3"
  },
  "language_info": {
   "codemirror_mode": {
    "name": "ipython",
    "version": 3
   },
   "file_extension": ".py",
   "mimetype": "text/x-python",
   "name": "python",
   "nbconvert_exporter": "python",
   "pygments_lexer": "ipython3",
   "version": "3.8.5"
  }
 },
 "nbformat": 4,
 "nbformat_minor": 4
}
