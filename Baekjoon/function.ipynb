{
 "cells": [
  {
   "cell_type": "code",
   "execution_count": 2,
   "metadata": {},
   "outputs": [],
   "source": [
    "#15596\n",
    "def n_sum(a):\n",
    "    return sum(a)"
   ]
  },
  {
   "cell_type": "code",
   "execution_count": 20,
   "metadata": {},
   "outputs": [
    {
     "name": "stdout",
     "output_type": "stream",
     "text": [
      "1\n",
      "3\n",
      "5\n",
      "7\n",
      "9\n",
      "20\n",
      "31\n",
      "42\n",
      "53\n",
      "64\n",
      "75\n",
      "86\n",
      "97\n"
     ]
    }
   ],
   "source": [
    "#4673\n",
    "def selfNum(n):\n",
    "    m = n\n",
    "    while n != 0:\n",
    "        m += n % 10\n",
    "        n //= 10\n",
    "    return m\n",
    "\n",
    "list1 = []\n",
    "\n",
    "for i in range(1, 10000):\n",
    "    list1.append(selfNum(i))\n",
    "    \n",
    "\"\"\"\n",
    "for j in range(1, 10000):\n",
    "    if j not in list1:\n",
    "        print(j)\n",
    "\"\"\"\n",
    "#일부만 출력\n",
    "for j in range(1, 100):\n",
    "    if j not in list1:\n",
    "        print(j)"
   ]
  },
  {
   "cell_type": "code",
   "execution_count": 13,
   "metadata": {},
   "outputs": [
    {
     "name": "stdout",
     "output_type": "stream",
     "text": [
      "1000\n",
      "144\n"
     ]
    }
   ],
   "source": [
    "#1065\n",
    "def han(n):\n",
    "    count = 0 #한수의 개수\n",
    "    for i in range(1, n + 1):\n",
    "        if i < 100: #100이하는 모두 한수\n",
    "            count += 1\n",
    "            \n",
    "        else:\n",
    "            num = list(map(int, str(i))) #자릿수 분리\n",
    "            if num[2] - num[1] == num[1] - num[0]: #등차수열인지 확인\n",
    "                count += 1\n",
    "    return count\n",
    "\n",
    "print(han(int(input())))"
   ]
  }
 ],
 "metadata": {
  "kernelspec": {
   "display_name": "Python 3",
   "language": "python",
   "name": "python3"
  },
  "language_info": {
   "codemirror_mode": {
    "name": "ipython",
    "version": 3
   },
   "file_extension": ".py",
   "mimetype": "text/x-python",
   "name": "python",
   "nbconvert_exporter": "python",
   "pygments_lexer": "ipython3",
   "version": "3.8.5"
  }
 },
 "nbformat": 4,
 "nbformat_minor": 4
}
