{
 "cells": [
  {
   "cell_type": "markdown",
   "id": "185ea725",
   "metadata": {},
   "source": [
    "## List"
   ]
  },
  {
   "cell_type": "code",
   "execution_count": 14,
   "id": "86c17ee3",
   "metadata": {},
   "outputs": [
    {
     "name": "stdout",
     "output_type": "stream",
     "text": [
      "append : [30, 10, 20, 40]\n",
      "pop : [30, 10, 20]\n",
      "sort : [10, 20, 30]\n",
      "reverse : [30, 20, 10]\n",
      "index : 1\n",
      "insert : [30, 20, 222, 10]\n",
      "remove : [30, 20, 10]\n",
      "extend : [30, 20, 10, 77, 88, 77]\n",
      "count : 2\n",
      "delete : [30, 20, 10, 77, 88]\n",
      "len : 5\n",
      "copy : [30, 20, 10, 77, 88]\n",
      "sorted : [10, 20, 30, 77, 88]\n",
      "clear : []\n"
     ]
    }
   ],
   "source": [
    "my_list = [30, 10, 20]\n",
    "\n",
    "#추가(맨 뒤)\n",
    "my_list.append(40)\n",
    "print(\"append : %s\" % my_list)\n",
    "\n",
    "#추출(맨 뒤)\n",
    "my_list.pop()\n",
    "print(\"pop : %s\" % my_list)\n",
    "\n",
    "#정렬\n",
    "my_list.sort()\n",
    "print(\"sort : %s\" % my_list)\n",
    "\n",
    "#역순\n",
    "my_list.reverse()\n",
    "print(\"reverse : %s\" % my_list)\n",
    "\n",
    "#값의 인덱스\n",
    "print(\"index : %d\" % my_list.index(20))\n",
    "\n",
    "#지정된 위치에 값 삽입\n",
    "my_list.insert(2, 222)\n",
    "print(\"insert : %s\" % my_list)\n",
    "\n",
    "#지정한 값 제거(여러 개면 첫 번째 한 개만)\n",
    "my_list.remove(222)\n",
    "print(\"remove : %s\" % my_list)\n",
    "\n",
    "#리스트 뒤에 리스트 추가\n",
    "my_list.extend([77, 88, 77])\n",
    "print(\"extend : %s\" % my_list)\n",
    "\n",
    "#값의 개수\n",
    "print(\"count : %s\" % my_list.count(77))\n",
    "\n",
    "#지정된 위치의 값 삭제\n",
    "del(my_list[5])\n",
    "print(\"delete : %s\" % my_list)\n",
    "\n",
    "#전체 항목의 개수\n",
    "print(\"len : %d\" % len(my_list))\n",
    "\n",
    "#새로운 리스트에 복사\n",
    "my_list2 = my_list.copy()\n",
    "print(\"copy : %s\" % my_list2)\n",
    "\n",
    "#정렬한 뒤 새로운 리스트에 대입\n",
    "my_list3 = sorted(my_list)\n",
    "print(\"sorted : %s\" % my_list3)\n",
    "\n",
    "#내용 지우기\n",
    "my_list3.clear()\n",
    "print(\"clear : %s\" % my_list3)"
   ]
  },
  {
   "cell_type": "code",
   "execution_count": 17,
   "id": "bb204774",
   "metadata": {
    "scrolled": true
   },
   "outputs": [
    {
     "name": "stdout",
     "output_type": "stream",
     "text": [
      "[1, 2, 3, 4, 5]\n",
      "[3, 6, 9, 12, 15, 18]\n",
      "[[0, 0, 0, 0], [0, 0, 0, 0], [0, 0, 0, 0]]\n"
     ]
    }
   ],
   "source": [
    "numList = [n for n in range(1, 6)]\n",
    "print(numList)\n",
    "\n",
    "numList2 = [n for n in range(1, 21) if n % 3 == 0]\n",
    "print(numList2)\n",
    "\n",
    "numList3 = [[0 for _ in range(4)]for _ in range(3)]\n",
    "print(numList3)"
   ]
  },
  {
   "cell_type": "markdown",
   "id": "a116f2de",
   "metadata": {},
   "source": [
    "## Dictionary"
   ]
  },
  {
   "cell_type": "code",
   "execution_count": 32,
   "id": "67ea0b37",
   "metadata": {},
   "outputs": [
    {
     "name": "stdout",
     "output_type": "stream",
     "text": [
      "{'학번': 1000, '이름': '홍길동', '학과': '컴퓨터학과'}\n",
      "{'학번': 1000, '이름': '홍길동', '학과': '컴퓨터학과', '연락처': '010-1111-2222'}\n",
      "{'학번': 1000, '이름': '홍길동', '학과': '컴퓨터학과'}\n"
     ]
    }
   ],
   "source": [
    "student = {'학번' : 1000, '이름' : '홍길동', '학과' :  '컴퓨터학과'}\n",
    "print(student)\n",
    "\n",
    "#추가(키가 있을 시 변경)\n",
    "student['연락처'] = '010-1111-2222'\n",
    "print(student)\n",
    "\n",
    "#삭제\n",
    "del(student['연락처'])\n",
    "print(student)"
   ]
  },
  {
   "cell_type": "code",
   "execution_count": 33,
   "id": "d456a548",
   "metadata": {},
   "outputs": [
    {
     "name": "stdout",
     "output_type": "stream",
     "text": [
      "1000\n",
      "홍길동\n",
      "None\n",
      "dict_keys(['학번', '이름', '학과'])\n",
      "dict_values([1000, '홍길동', '컴퓨터학과'])\n",
      "dict_items([('학번', 1000), ('이름', '홍길동'), ('학과', '컴퓨터학과')])\n",
      "True\n",
      "False\n"
     ]
    }
   ],
   "source": [
    "#사용\n",
    "print(student['학번'])\n",
    "print(student.get('이름'))\n",
    "###print(student['주소']) -> 오류\n",
    "print(student.get('주소'))\n",
    "\n",
    "print(student.keys())\n",
    "print(student.values())\n",
    "print(student.items())\n",
    "\n",
    "print('이름' in student)\n",
    "print('주소' in student)"
   ]
  },
  {
   "cell_type": "markdown",
   "id": "9406aeb0",
   "metadata": {},
   "source": [
    "## Set"
   ]
  },
  {
   "cell_type": "code",
   "execution_count": 29,
   "id": "432cda84",
   "metadata": {},
   "outputs": [
    {
     "name": "stdout",
     "output_type": "stream",
     "text": [
      "{1, 2, 3, 4}\n",
      "{4, 5}\n",
      "{1, 2, 3, 4, 5, 6, 7}\n",
      "{1, 2, 3}\n",
      "{1, 2, 3, 6, 7}\n"
     ]
    }
   ],
   "source": [
    "my_set = {1, 2, 3, 3, 3, 4}\n",
    "print(my_set)\n",
    "\n",
    "mySet1 = {1, 2, 3, 4, 5}\n",
    "mySet2 = {4, 5, 6, 7}\n",
    "\n",
    "print(mySet1 & mySet2) #교집합\n",
    "print(mySet1 | mySet2) #합집합\n",
    "print(mySet1 - mySet2) #차집합\n",
    "print(mySet1 ^ mySet2) #대칭 차집합"
   ]
  },
  {
   "cell_type": "markdown",
   "id": "83d2f850",
   "metadata": {},
   "source": [
    "## String"
   ]
  },
  {
   "cell_type": "code",
   "execution_count": 31,
   "id": "7afe01bd",
   "metadata": {},
   "outputs": [
    {
     "name": "stdout",
     "output_type": "stream",
     "text": [
      "자\n",
      "료구조\n",
      "&알고리즘\n",
      "파이썬알고리즘\n",
      "파이썬파이썬파이썬\n",
      "9\n"
     ]
    }
   ],
   "source": [
    "s = \"자료구조&알고리즘\"\n",
    "print(s[0])\n",
    "print(s[1:4])\n",
    "print(s[4:])\n",
    "\n",
    "print('파이썬' + '알고리즘')\n",
    "print('파이썬' * 3)\n",
    "print(len(s))"
   ]
  },
  {
   "cell_type": "code",
   "execution_count": 41,
   "id": "b2157175",
   "metadata": {},
   "outputs": [
    {
     "name": "stdout",
     "output_type": "stream",
     "text": [
      "2\n",
      "5 19 19 -1\n",
      "5 19 19\n",
      "True False True\n"
     ]
    }
   ],
   "source": [
    "s = '인내는 쓰다. 그러나 그 열매는 달다.'\n",
    "print(s.count('다'))\n",
    "print(s.find('다'), s.rfind('다'), s.find('다', 7), s.find('몰라'))\n",
    "print(s.index('다'), s.rindex('다'), s.index('다', 7)) #s.index('몰라') -> 오류\n",
    "print(s.startswith('인내는'), s.startswith('인내는', 10), s.endswith('달다.'))"
   ]
  },
  {
   "cell_type": "code",
   "execution_count": 44,
   "id": "97d2d7f4",
   "metadata": {},
   "outputs": [
    {
     "name": "stdout",
     "output_type": "stream",
     "text": [
      "['인생은', '짧고', '예술은', '길다']\n",
      "['하나', '둘', '셋']\n",
      "['하나', '둘', '셋']\n",
      "파%이%썬\n"
     ]
    }
   ],
   "source": [
    "s = '인생은 짧고 예술은 길다'\n",
    "print(s.split())\n",
    "\n",
    "s = '하나:둘:셋'\n",
    "print(s.split(':'))\n",
    "\n",
    "s = '하나\\n둘\\n셋'\n",
    "print(s.splitlines())\n",
    "\n",
    "s = '%'\n",
    "print(s.join('파이썬'))"
   ]
  },
  {
   "cell_type": "code",
   "execution_count": 45,
   "id": "933d5bba",
   "metadata": {},
   "outputs": [
    {
     "data": {
      "text/plain": [
       "[2022, 12, 31]"
      ]
     },
     "execution_count": 45,
     "metadata": {},
     "output_type": "execute_result"
    }
   ],
   "source": [
    "before = ['2022', '12', '31']\n",
    "after = list(map(int, before))\n",
    "after"
   ]
  },
  {
   "cell_type": "markdown",
   "id": "93175ef8",
   "metadata": {},
   "source": [
    "## Tuple"
   ]
  },
  {
   "cell_type": "code",
   "execution_count": 48,
   "id": "689d4a7e",
   "metadata": {},
   "outputs": [
    {
     "name": "stdout",
     "output_type": "stream",
     "text": [
      "(10, 20, 30)\n",
      "(10, 20, 30)\n",
      "10\n",
      "10\n",
      "(10,)\n",
      "(10,)\n"
     ]
    }
   ],
   "source": [
    "t1 = (10, 20, 30)\n",
    "print(t1)\n",
    "\n",
    "t2 = 10, 20, 30\n",
    "print(t2)\n",
    "\n",
    "t3 = (10)\n",
    "print(t3)\n",
    "\n",
    "t4 = 10\n",
    "print(t4)\n",
    "\n",
    "t5 = (10,)\n",
    "print(t5)\n",
    "\n",
    "t6 = 10,\n",
    "print(t6)"
   ]
  },
  {
   "cell_type": "code",
   "execution_count": 50,
   "id": "4a510ef8",
   "metadata": {},
   "outputs": [
    {
     "name": "stdout",
     "output_type": "stream",
     "text": [
      "10\n",
      "30\n",
      "(20, 30)\n",
      "(20, 30, 40)\n",
      "(10, 20, 30)\n",
      "(10, 20, 30, 40, 'A', 'B')\n",
      "('A', 'B', 'A', 'B', 'A', 'B')\n"
     ]
    }
   ],
   "source": [
    "t1 = (10, 20, 30, 40)\n",
    "print(t1[0])\n",
    "print(t1[0] + t2[1])\n",
    "\n",
    "print(t1[1:3])\n",
    "print(t1[1:])\n",
    "print(t1[:3])\n",
    "\n",
    "t2 = ('A', 'B')\n",
    "print(t1 + t2)\n",
    "print(t2 * 3)"
   ]
  }
 ],
 "metadata": {
  "kernelspec": {
   "display_name": "Python 3 (ipykernel)",
   "language": "python",
   "name": "python3"
  },
  "language_info": {
   "codemirror_mode": {
    "name": "ipython",
    "version": 3
   },
   "file_extension": ".py",
   "mimetype": "text/x-python",
   "name": "python",
   "nbconvert_exporter": "python",
   "pygments_lexer": "ipython3",
   "version": "3.9.7"
  }
 },
 "nbformat": 4,
 "nbformat_minor": 5
}
