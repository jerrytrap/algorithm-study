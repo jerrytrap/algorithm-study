{
 "cells": [
  {
   "cell_type": "code",
   "execution_count": 1,
   "id": "b78206c2",
   "metadata": {},
   "outputs": [
    {
     "data": {
      "text/plain": [
       "['Prodo님이 들어왔습니다.', 'Ryan님이 들어왔습니다.', 'Prodo님이 나갔습니다.', 'Prodo님이 들어왔습니다.']"
      ]
     },
     "execution_count": 1,
     "metadata": {},
     "output_type": "execute_result"
    }
   ],
   "source": [
    "#오픈채팅방\n",
    "def solution(record):\n",
    "    answer = []\n",
    "    userInfo = {} #유저 아이디에 대한 닉네임 저장\n",
    "    \n",
    "    #채팅방에 들어오거나 닉네임을 변경하는 경우 userInfo에 반영\n",
    "    for log in record:\n",
    "        mes = log.split()\n",
    "        action = mes[0]\n",
    "        userId = mes[1]\n",
    "        \n",
    "        if action in (\"Enter\", \"Change\"):\n",
    "            userInfo[userId] = mes[2]\n",
    "    \n",
    "    #채팅방에 들어오거나 나가는 경우 메시지 출력\n",
    "    for log in record:\n",
    "        mes = log.split()\n",
    "        action = mes[0]\n",
    "        userId = mes[1]\n",
    "        \n",
    "        if action == \"Enter\":\n",
    "            answer.append(userInfo[userId] + \"님이 들어왔습니다.\")\n",
    "        elif action == \"Leave\":\n",
    "            answer.append(userInfo[userId] + \"님이 나갔습니다.\")\n",
    "            \n",
    "    return answer\n",
    "\n",
    "solution([\"Enter uid1234 Muzi\", \"Enter uid4567 Prodo\",\"Leave uid1234\",\"Enter uid1234 Prodo\",\"Change uid4567 Ryan\"])"
   ]
  },
  {
   "cell_type": "code",
   "execution_count": 22,
   "id": "4003c801",
   "metadata": {},
   "outputs": [
    {
     "data": {
      "text/plain": [
       "7"
      ]
     },
     "execution_count": 22,
     "metadata": {},
     "output_type": "execute_result"
    }
   ],
   "source": [
    "#문자열 압축\n",
    "def solution(s):\n",
    "    answer = len(s)\n",
    "    \n",
    "    #s를 1부터 s 길이의 절반까지 잘라서 확인\n",
    "    for i in range(1, len(s) // 2 + 1):\n",
    "        compressed = \"\"\n",
    "        substr = s[0:i] #확인할 문자열\n",
    "        cnt = 1\n",
    "        \n",
    "        #확인할 문자열 다음부터 같은 길이만큼 잘라가며 비교\n",
    "        for j in range(i, len(s), i):\n",
    "            \n",
    "            #같을 경우 카운트 증가\n",
    "            if substr == s[j:j+i]:\n",
    "                cnt += 1\n",
    "                \n",
    "            #다를 경우 확인할 문자열과 카운트를 더함 (카운트가 2 이상일 때만)\n",
    "            else:\n",
    "                compressed += str(cnt) + substr if cnt >= 2 else substr\n",
    "\n",
    "                #다음 문자열을 비교\n",
    "                substr = s[j:j+i]\n",
    "                cnt = 1\n",
    "        \n",
    "        #남아있는 문자열과 카운트 처리\n",
    "        compressed += str(cnt) + substr if cnt >= 2 else substr\n",
    "        answer = min(answer, len(compressed))\n",
    "    return answer\n",
    "\n",
    "solution(\"aabbaccc\")"
   ]
  },
  {
   "cell_type": "code",
   "execution_count": 8,
   "id": "943186d5",
   "metadata": {},
   "outputs": [
    {
     "data": {
      "text/plain": [
       "'42'"
      ]
     },
     "execution_count": 8,
     "metadata": {},
     "output_type": "execute_result"
    }
   ],
   "source": [
    "#124 나라의 숫자\n",
    "def solution(n):\n",
    "    answer = \"\"\n",
    "    numbers = [4, 1, 2] #나머지가 0, 1, 2 일 때 붙일 숫자\n",
    "    \n",
    "    while(n > 0):\n",
    "        remainder = n % 3\n",
    "        n //= 3\n",
    "        \n",
    "        #나머지가 0이라면 몫 1 감소\n",
    "        if(remainder == 0):\n",
    "            n -= 1\n",
    "            \n",
    "        answer = str(numbers[remainder]) + answer\n",
    "    \n",
    "    return answer\n",
    "\n",
    "solution(11)"
   ]
  },
  {
   "cell_type": "code",
   "execution_count": null,
   "id": "26de4785",
   "metadata": {},
   "outputs": [],
   "source": []
  }
 ],
 "metadata": {
  "kernelspec": {
   "display_name": "Python 3 (ipykernel)",
   "language": "python",
   "name": "python3"
  },
  "language_info": {
   "codemirror_mode": {
    "name": "ipython",
    "version": 3
   },
   "file_extension": ".py",
   "mimetype": "text/x-python",
   "name": "python",
   "nbconvert_exporter": "python",
   "pygments_lexer": "ipython3",
   "version": "3.9.7"
  }
 },
 "nbformat": 4,
 "nbformat_minor": 5
}
